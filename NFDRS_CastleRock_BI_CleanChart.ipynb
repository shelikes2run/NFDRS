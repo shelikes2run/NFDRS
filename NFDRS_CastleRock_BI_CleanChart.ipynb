{
 "cells": [
  {
   "cell_type": "markdown",
   "id": "0310b141",
   "metadata": {},
   "source": [
    "# NFDRS Chart – Castle Rock (Burning Index) with Safe Logic and NFDRS Color Ramp"
   ]
  },
  {
   "cell_type": "code",
   "execution_count": null,
   "id": "32a06d7a",
   "metadata": {},
   "outputs": [],
   "source": [
    "<same content as earlier provided clean notebook>"
   ]
  }
 ],
 "metadata": {},
 "nbformat": 4,
 "nbformat_minor": 5
}
